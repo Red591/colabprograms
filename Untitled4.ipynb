{
  "nbformat": 4,
  "nbformat_minor": 0,
  "metadata": {
    "colab": {
      "provenance": [],
      "authorship_tag": "ABX9TyNSfE9G647C6xdjsrhp0q88",
      "include_colab_link": true
    },
    "kernelspec": {
      "name": "python3",
      "display_name": "Python 3"
    },
    "language_info": {
      "name": "python"
    }
  },
  "cells": [
    {
      "cell_type": "markdown",
      "metadata": {
        "id": "view-in-github",
        "colab_type": "text"
      },
      "source": [
        "<a href=\"https://colab.research.google.com/github/Red591/colabprograms/blob/main/Untitled4.ipynb\" target=\"_parent\"><img src=\"https://colab.research.google.com/assets/colab-badge.svg\" alt=\"Open In Colab\"/></a>"
      ]
    },
    {
      "cell_type": "code",
      "execution_count": 8,
      "metadata": {
        "colab": {
          "base_uri": "https://localhost:8080/"
        },
        "id": "DYyNM1zLtFsa",
        "outputId": "98ca8d60-53e8-4585-c605-2936c9fed686"
      },
      "outputs": [
        {
          "output_type": "stream",
          "name": "stdout",
          "text": [
            "Cloning into 'colabprograms'...\n",
            "warning: You appear to have cloned an empty repository.\n",
            "[Errno 2] No such file or directory: 'ColabPrograms'\n",
            "/content/ColabPrograms/ColabPrograms\n"
          ]
        }
      ],
      "source": [
        "!git config --global user.name \"Red591\"\n",
        "!git config --global user.email \"rreddy4@gitam.in\"\n",
        "!git clone https://github.com/Red591/colabprograms.git\n",
        "%cd ColabPrograms\n"
      ]
    },
    {
      "cell_type": "code",
      "source": [
        "# Step 1: Hardcoding Variables\n",
        "name = \"John\"\n",
        "age = 30\n",
        "city = \"New York\"\n",
        "\n",
        "print(f\"Name: {name}\")\n",
        "print(f\"Age: {age}\")\n",
        "print(f\"City: {city}\")\n"
      ],
      "metadata": {
        "colab": {
          "base_uri": "https://localhost:8080/"
        },
        "id": "umheCwKot9In",
        "outputId": "89e53e71-4849-42f7-eabc-a0e3e8447a8e"
      },
      "execution_count": 3,
      "outputs": [
        {
          "output_type": "stream",
          "name": "stdout",
          "text": [
            "Name: John\n",
            "Age: 30\n",
            "City: New York\n"
          ]
        }
      ]
    },
    {
      "cell_type": "code",
      "source": [
        "# Step 2: Keyboard Input\n",
        "name = input(\"Enter your name: \")\n",
        "age = int(input(\"Enter your age: \"))\n",
        "city = input(\"Enter your city: \")\n",
        "\n",
        "print(f\"Name: {name}\")\n",
        "print(f\"Age: {age}\")\n",
        "print(f\"City: {city}\")\n"
      ],
      "metadata": {
        "colab": {
          "base_uri": "https://localhost:8080/"
        },
        "id": "gR5lz8HFuB8m",
        "outputId": "2230aaa5-86a2-4214-b043-8412bf0a68aa"
      },
      "execution_count": 4,
      "outputs": [
        {
          "output_type": "stream",
          "name": "stdout",
          "text": [
            "Enter your name: r\n",
            "Enter your age: 20\n",
            "Enter your city: hyd\n",
            "Name: r\n",
            "Age: 20\n",
            "City: hyd\n"
          ]
        }
      ]
    },
    {
      "cell_type": "code",
      "source": [
        "# Step 3: Read From File (Single Input)\n",
        "\n",
        "# Write a sample file (input.txt) in the repository (for demonstration)\n",
        "with open(\"input.txt\", \"w\") as file:\n",
        "    file.write(\"Alice\")\n",
        "\n",
        "# Reading from the file\n",
        "with open(\"input.txt\", \"r\") as file:\n",
        "    name = file.readline().strip()\n",
        "\n",
        "print(f\"Name from file: {name}\")\n"
      ],
      "metadata": {
        "colab": {
          "base_uri": "https://localhost:8080/"
        },
        "id": "I5aRh4oPupj-",
        "outputId": "3e37d1b9-aebe-49b9-f342-1064a9f240b7"
      },
      "execution_count": 5,
      "outputs": [
        {
          "output_type": "stream",
          "name": "stdout",
          "text": [
            "Name from file: Alice\n"
          ]
        }
      ]
    },
    {
      "cell_type": "code",
      "source": [
        "# Step 4: Read From File (Multiple Inputs)\n",
        "\n",
        "# Write multiple lines to a file (inputs.txt) for demonstration\n",
        "with open(\"inputs.txt\", \"w\") as file:\n",
        "    file.write(\"John\\n25\\nNew York\\n\")\n",
        "\n",
        "# Reading multiple lines from the file\n",
        "with open(\"inputs.txt\", \"r\") as file:\n",
        "    name = file.readline().strip()\n",
        "    age = int(file.readline().strip())\n",
        "    city = file.readline().strip()\n",
        "\n",
        "print(f\"Name: {name}\")\n",
        "print(f\"Age: {age}\")\n",
        "print(f\"City: {city}\")\n"
      ],
      "metadata": {
        "colab": {
          "base_uri": "https://localhost:8080/"
        },
        "id": "GiQtN85bvahV",
        "outputId": "f4321a33-f433-48fb-d0c3-11a52190788a"
      },
      "execution_count": 6,
      "outputs": [
        {
          "output_type": "stream",
          "name": "stdout",
          "text": [
            "Name: John\n",
            "Age: 25\n",
            "City: New York\n"
          ]
        }
      ]
    },
    {
      "cell_type": "code",
      "source": [
        "# Step 5: Debug and Fix Errors\n",
        "\n",
        "try:\n",
        "    with open(\"non_existent_file.txt\", \"r\") as file:\n",
        "        content = file.read()\n",
        "    print(content)\n",
        "except FileNotFoundError:\n",
        "    print(\"Error: The file was not found.\")\n",
        "\n",
        "# Handling invalid input\n",
        "try:\n",
        "    age = int(input(\"Enter your age: \"))\n",
        "    print(f\"Age: {age}\")\n",
        "except ValueError:\n",
        "    print(\"Error: Invalid input. Please enter a valid number for age.\")\n"
      ],
      "metadata": {
        "colab": {
          "base_uri": "https://localhost:8080/"
        },
        "id": "W2kMvY09vr21",
        "outputId": "5b7e4517-aa2a-466f-cd91-2d63d3ad8c43"
      },
      "execution_count": 7,
      "outputs": [
        {
          "output_type": "stream",
          "name": "stdout",
          "text": [
            "Error: The file was not found.\n",
            "Enter your age: 20\n",
            "Age: 20\n"
          ]
        }
      ]
    }
  ]
}